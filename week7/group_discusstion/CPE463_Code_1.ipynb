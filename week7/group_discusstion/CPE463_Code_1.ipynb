{
  "nbformat": 4,
  "nbformat_minor": 0,
  "metadata": {
    "colab": {
      "name": "CPE463_Code_1.ipynb",
      "provenance": [],
      "authorship_tag": "ABX9TyMg3gUY8CWIF4SqRHYV7uLp",
      "include_colab_link": true
    },
    "kernelspec": {
      "name": "python3",
      "display_name": "Python 3"
    },
    "language_info": {
      "name": "python"
    }
  },
  "cells": [
    {
      "cell_type": "markdown",
      "metadata": {
        "id": "view-in-github",
        "colab_type": "text"
      },
      "source": [
        "<a href=\"https://colab.research.google.com/github/RTae/CPE463/blob/main/week7/group_discusstion/CPE463_Code_1.ipynb\" target=\"_parent\"><img src=\"https://colab.research.google.com/assets/colab-badge.svg\" alt=\"Open In Colab\"/></a>"
      ]
    },
    {
      "cell_type": "code",
      "metadata": {
        "id": "P20-dtfXWhyv"
      },
      "source": [
        "import cv2\n",
        "import random\n",
        "import numpy as np\n",
        "import matplotlib.pyplot as plt"
      ],
      "execution_count": 321,
      "outputs": []
    },
    {
      "cell_type": "code",
      "metadata": {
        "id": "qo6YmtGWnpvk"
      },
      "source": [
        "# Helper Function\n",
        "\n",
        "def random_color():\n",
        "    r = random.choice([i for i in range(0,255)])\n",
        "    g = random.choice([i for i in range(0,255)])\n",
        "    b = random.choice([i for i in range(0,255)])\n",
        "    \n",
        "    return (r,g,b)"
      ],
      "execution_count": 343,
      "outputs": []
    },
    {
      "cell_type": "code",
      "metadata": {
        "id": "FLhVBHSwZxcD"
      },
      "source": [
        "img_origin = cv2.imread(\"./bag.png\")\n",
        "img_origin = cv2.cvtColor(img_origin, cv2.COLOR_BGR2RGB)\n",
        "\n",
        "img_origin_gray = cv2.cvtColor(img_origin, cv2.COLOR_BGR2GRAY)\n",
        "ret, img_origin_gray = cv2.threshold(img_origin_gray, 127, 255, 0)\n",
        "\n",
        "img = img_origin_gray.copy()"
      ],
      "execution_count": 310,
      "outputs": []
    },
    {
      "cell_type": "code",
      "metadata": {
        "id": "Aswcgd13cNtn"
      },
      "source": [
        "kernel_closing = np.ones((3,3),np.uint8)\n",
        "\n",
        "# Closing\n",
        "img = cv2.dilate(img,kernel_closing,iterations = 1)\n",
        "img = cv2.erode(img,kernel_closing,iterations = 1)\n",
        "\n",
        "kernel_erode = np.ones((2,2),np.uint8)\n",
        "img = cv2.erode(img,kernel_erode,iterations = 1)"
      ],
      "execution_count": 311,
      "outputs": []
    },
    {
      "cell_type": "code",
      "metadata": {
        "id": "Q67lypTqcf1x"
      },
      "source": [
        "contours, hierarchy = cv2.findContours(img, cv2.RETR_TREE, cv2.CHAIN_APPROX_SIMPLE)"
      ],
      "execution_count": 346,
      "outputs": []
    },
    {
      "cell_type": "code",
      "metadata": {
        "id": "3zfjrCepexjV"
      },
      "source": [
        "# Filter only lower half\n",
        "temp_contour = []\n",
        "for contour in contours:\n",
        "  if len(contour) > 23 and  len(contour) < 138:\n",
        "    temp_contour.append(contour)\n",
        "\n",
        "img_draw = img.copy()\n",
        "img_draw = cv2.cvtColor(img_draw, cv2.COLOR_GRAY2RGB)"
      ],
      "execution_count": 347,
      "outputs": []
    },
    {
      "cell_type": "code",
      "metadata": {
        "colab": {
          "base_uri": "https://localhost:8080/",
          "height": 286
        },
        "id": "CdgwXhyeg0nC",
        "outputId": "f9429a18-59e4-4480-c145-157b9d471c57"
      },
      "source": [
        "for contour in temp_contour:\n",
        "  img_draw = cv2.fillPoly(img_draw, pts = [contour], color= random_color())\n",
        "\n",
        "plt.imshow(img_draw)"
      ],
      "execution_count": 348,
      "outputs": [
        {
          "output_type": "execute_result",
          "data": {
            "text/plain": [
              "<matplotlib.image.AxesImage at 0x7f2ec6394950>"
            ]
          },
          "metadata": {
            "tags": []
          },
          "execution_count": 348
        },
        {
          "output_type": "display_data",
          "data": {
            "image/png": "[encoded data removed]",
            "text/plain": [
              "<Figure size 432x288 with 1 Axes>"
            ]
          },
          "metadata": {
            "tags": [],
            "needs_background": "light"
          }
        }
      ]
    },
    {
      "cell_type": "code",
      "metadata": {
        "id": "BUyuBrxRn-dr"
      },
      "source": [
        ""
      ],
      "execution_count": null,
      "outputs": []
    }
  ]
}